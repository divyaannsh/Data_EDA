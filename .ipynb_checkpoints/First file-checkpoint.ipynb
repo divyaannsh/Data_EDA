{
 "cells": [
  {
   "cell_type": "code",
   "execution_count": 1,
   "id": "ad15514d-ae1a-46c4-8ca0-fd84b540021e",
   "metadata": {},
   "outputs": [
    {
     "data": {
      "text/plain": [
       "8"
      ]
     },
     "execution_count": 1,
     "metadata": {},
     "output_type": "execute_result"
    }
   ],
   "source": [
    "1+7\n"
   ]
  },
  {
   "cell_type": "code",
   "execution_count": null,
   "id": "1e31857f-0a64-4bc5-9bbe-0257ceeafe9d",
   "metadata": {},
   "outputs": [],
   "source": []
  }
 ],
 "metadata": {
  "kernelspec": {
   "display_name": "Python 3 (ipykernel)",
   "language": "python",
   "name": "python3"
  },
  "language_info": {
   "codemirror_mode": {
    "name": "ipython",
    "version": 3
   },
   "file_extension": ".py",
   "mimetype": "text/x-python",
   "name": "python",
   "nbconvert_exporter": "python",
   "pygments_lexer": "ipython3",
   "version": "3.12.4"
  }
 },
 "nbformat": 4,
 "nbformat_minor": 5
}
